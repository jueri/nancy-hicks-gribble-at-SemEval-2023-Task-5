{
 "cells": [
  {
   "cell_type": "code",
   "execution_count": 1,
   "metadata": {},
   "outputs": [
    {
     "name": "stderr",
     "output_type": "stream",
     "text": [
      "/home/jueri/miniconda3/envs/ANLP/lib/python3.8/site-packages/tqdm/auto.py:22: TqdmWarning: IProgress not found. Please update jupyter and ipywidgets. See https://ipywidgets.readthedocs.io/en/stable/user_install.html\n",
      "  from .autonotebook import tqdm as notebook_tqdm\n"
     ]
    }
   ],
   "source": [
    "from sklearn.pipeline import Pipeline, FeatureUnion\n",
    "\n",
    "from sklearn.linear_model import LogisticRegression\n",
    "from sklearn.svm import LinearSVC\n",
    "from sklearn.naive_bayes import MultinomialNB\n",
    "\n",
    "from sklearn.feature_extraction.text import CountVectorizer, TfidfVectorizer\n",
    "from sklearn.compose import ColumnTransformer\n",
    "\n",
    "from sklearn.preprocessing import StandardScaler\n",
    "\n",
    "from feature import Length, AboveMean, Question, HasNum, NumEntities\n",
    "from preprocessing import RemoveStopwords, Lemmatize, Lowercase\n",
    "import pandas as pd\n",
    "import argparse\n",
    "import json\n",
    "import pickle\n",
    "\n",
    "def parse_args():\n",
    "    parser = argparse.ArgumentParser(description='This is a baseline for task 1 that predicts that each clickbait post warrants a passage spoiler.')\n",
    "\n",
    "    parser.add_argument('--input', type=str, help='The input data (expected in jsonl format).', required=True)\n",
    "    parser.add_argument('--output', type=str, help='The classified output in jsonl format.', required=False)\n",
    "\n",
    "    return parser.parse_args()\n",
    "\n",
    "def load_input(df):\n",
    "    with open(df, 'r') as inp:\n",
    "         inp = [json.loads(i) for i in inp]\n",
    "    return pd.DataFrame(inp)\n",
    "\n",
    "def get_preprocessing_pipeline():\n",
    "    pipeline = Pipeline([\n",
    "        (\"RemoveStopwords\", RemoveStopwords()),\n",
    "        (\"Lemmatize\", Lemmatize()),\n",
    "        (\"Lowercase\", Lowercase())])\n",
    "    return pipeline\n",
    "\n",
    "def get_feature_pipeline():\n",
    "    unigrams_feature = FeatureUnion(transformer_list=[(\"unigrams\", CountVectorizer())])\n",
    "    tfidf_feature = FeatureUnion(transformer_list=[(\"tf-idf\", TfidfVectorizer(min_df=10, ngram_range=(1, 2)))])\n",
    "\n",
    "    column_trans = ColumnTransformer(\n",
    "        [\n",
    "            (\"unigrams\", unigrams_feature, \"text\"),\n",
    "            (\"tfidf\", tfidf_feature, \"text\"),\n",
    "\n",
    "            (\"Length\", Length(), \"text\"),\n",
    "            (\"AboveMean\", AboveMean(), \"text\"),\n",
    "            (\"Question\", Question(), \"text\"),\n",
    "            (\"HasNum\", HasNum(), \"text\"),\n",
    "            (\"NumEntities\", NumEntities(), \"text\"),\n",
    "        ],\n",
    "        remainder=\"drop\",\n",
    "        verbose=True,\n",
    "    )\n",
    "\n",
    "    pipeline = Pipeline(\n",
    "        [\n",
    "            (\"preprocessing\", column_trans),\n",
    "            (\"classify\", LogisticRegression(n_jobs=1, C=1e5)),\n",
    "        ],\n",
    "        verbose=True\n",
    "    )\n",
    "    return pipeline\n"
   ]
  },
  {
   "cell_type": "code",
   "execution_count": 9,
   "metadata": {},
   "outputs": [],
   "source": [
    "input_file = \"../Data/webis-clickbait-22/train.jsonl\"\n",
    "X = load_input(input_file)\n",
    "y = X['tags'].explode()\n",
    "X = X['postText'] + X['targetParagraphs']\n",
    "X = X.apply(\" \".join)\n",
    "X = X.to_frame(name=\"text\")"
   ]
  },
  {
   "cell_type": "code",
   "execution_count": 10,
   "metadata": {},
   "outputs": [
    {
     "name": "stderr",
     "output_type": "stream",
     "text": [
      "[nltk_data] Downloading package stopwords to /home/jueri/nltk_data...\n",
      "[nltk_data]   Package stopwords is already up-to-date!\n"
     ]
    }
   ],
   "source": [
    "preprocessor = get_preprocessing_pipeline()\n",
    "X[\"text\"] = preprocessor.fit_transform(X[\"text\"])"
   ]
  },
  {
   "cell_type": "code",
   "execution_count": 11,
   "metadata": {},
   "outputs": [
    {
     "name": "stdout",
     "output_type": "stream",
     "text": [
      "[ColumnTransformer] ...... (1 of 7) Processing unigrams, total=   0.8s\n",
      "[ColumnTransformer] ......... (2 of 7) Processing tfidf, total=   3.6s\n",
      "[ColumnTransformer] ........ (3 of 7) Processing Length, total=   0.0s\n",
      "[ColumnTransformer] ..... (4 of 7) Processing AboveMean, total=   0.0s\n",
      "[ColumnTransformer] ...... (5 of 7) Processing Question, total=   0.0s\n",
      "[ColumnTransformer] ........ (6 of 7) Processing HasNum, total=   0.0s\n",
      "[ColumnTransformer] ... (7 of 7) Processing NumEntities, total=  25.3s\n",
      "[Pipeline] ..... (step 1 of 2) Processing preprocessing, total=  32.4s\n"
     ]
    },
    {
     "name": "stderr",
     "output_type": "stream",
     "text": [
      "/home/jueri/miniconda3/envs/ANLP/lib/python3.8/site-packages/sklearn/linear_model/_logistic.py:458: ConvergenceWarning: lbfgs failed to converge (status=1):\n",
      "STOP: TOTAL NO. of ITERATIONS REACHED LIMIT.\n",
      "\n",
      "Increase the number of iterations (max_iter) or scale the data as shown in:\n",
      "    https://scikit-learn.org/stable/modules/preprocessing.html\n",
      "Please also refer to the documentation for alternative solver options:\n",
      "    https://scikit-learn.org/stable/modules/linear_model.html#logistic-regression\n",
      "  n_iter_i = _check_optimize_result(\n"
     ]
    },
    {
     "name": "stdout",
     "output_type": "stream",
     "text": [
      "[Pipeline] .......... (step 2 of 2) Processing classify, total=   9.4s\n"
     ]
    },
    {
     "data": {
      "text/html": [
       "<style>#sk-container-id-1 {color: black;background-color: white;}#sk-container-id-1 pre{padding: 0;}#sk-container-id-1 div.sk-toggleable {background-color: white;}#sk-container-id-1 label.sk-toggleable__label {cursor: pointer;display: block;width: 100%;margin-bottom: 0;padding: 0.3em;box-sizing: border-box;text-align: center;}#sk-container-id-1 label.sk-toggleable__label-arrow:before {content: \"▸\";float: left;margin-right: 0.25em;color: #696969;}#sk-container-id-1 label.sk-toggleable__label-arrow:hover:before {color: black;}#sk-container-id-1 div.sk-estimator:hover label.sk-toggleable__label-arrow:before {color: black;}#sk-container-id-1 div.sk-toggleable__content {max-height: 0;max-width: 0;overflow: hidden;text-align: left;background-color: #f0f8ff;}#sk-container-id-1 div.sk-toggleable__content pre {margin: 0.2em;color: black;border-radius: 0.25em;background-color: #f0f8ff;}#sk-container-id-1 input.sk-toggleable__control:checked~div.sk-toggleable__content {max-height: 200px;max-width: 100%;overflow: auto;}#sk-container-id-1 input.sk-toggleable__control:checked~label.sk-toggleable__label-arrow:before {content: \"▾\";}#sk-container-id-1 div.sk-estimator input.sk-toggleable__control:checked~label.sk-toggleable__label {background-color: #d4ebff;}#sk-container-id-1 div.sk-label input.sk-toggleable__control:checked~label.sk-toggleable__label {background-color: #d4ebff;}#sk-container-id-1 input.sk-hidden--visually {border: 0;clip: rect(1px 1px 1px 1px);clip: rect(1px, 1px, 1px, 1px);height: 1px;margin: -1px;overflow: hidden;padding: 0;position: absolute;width: 1px;}#sk-container-id-1 div.sk-estimator {font-family: monospace;background-color: #f0f8ff;border: 1px dotted black;border-radius: 0.25em;box-sizing: border-box;margin-bottom: 0.5em;}#sk-container-id-1 div.sk-estimator:hover {background-color: #d4ebff;}#sk-container-id-1 div.sk-parallel-item::after {content: \"\";width: 100%;border-bottom: 1px solid gray;flex-grow: 1;}#sk-container-id-1 div.sk-label:hover label.sk-toggleable__label {background-color: #d4ebff;}#sk-container-id-1 div.sk-serial::before {content: \"\";position: absolute;border-left: 1px solid gray;box-sizing: border-box;top: 0;bottom: 0;left: 50%;z-index: 0;}#sk-container-id-1 div.sk-serial {display: flex;flex-direction: column;align-items: center;background-color: white;padding-right: 0.2em;padding-left: 0.2em;position: relative;}#sk-container-id-1 div.sk-item {position: relative;z-index: 1;}#sk-container-id-1 div.sk-parallel {display: flex;align-items: stretch;justify-content: center;background-color: white;position: relative;}#sk-container-id-1 div.sk-item::before, #sk-container-id-1 div.sk-parallel-item::before {content: \"\";position: absolute;border-left: 1px solid gray;box-sizing: border-box;top: 0;bottom: 0;left: 50%;z-index: -1;}#sk-container-id-1 div.sk-parallel-item {display: flex;flex-direction: column;z-index: 1;position: relative;background-color: white;}#sk-container-id-1 div.sk-parallel-item:first-child::after {align-self: flex-end;width: 50%;}#sk-container-id-1 div.sk-parallel-item:last-child::after {align-self: flex-start;width: 50%;}#sk-container-id-1 div.sk-parallel-item:only-child::after {width: 0;}#sk-container-id-1 div.sk-dashed-wrapped {border: 1px dashed gray;margin: 0 0.4em 0.5em 0.4em;box-sizing: border-box;padding-bottom: 0.4em;background-color: white;}#sk-container-id-1 div.sk-label label {font-family: monospace;font-weight: bold;display: inline-block;line-height: 1.2em;}#sk-container-id-1 div.sk-label-container {text-align: center;}#sk-container-id-1 div.sk-container {/* jupyter's `normalize.less` sets `[hidden] { display: none; }` but bootstrap.min.css set `[hidden] { display: none !important; }` so we also need the `!important` here to be able to override the default hidden behavior on the sphinx rendered scikit-learn.org. See: https://github.com/scikit-learn/scikit-learn/issues/21755 */display: inline-block !important;position: relative;}#sk-container-id-1 div.sk-text-repr-fallback {display: none;}</style><div id=\"sk-container-id-1\" class=\"sk-top-container\"><div class=\"sk-text-repr-fallback\"><pre>Pipeline(steps=[(&#x27;preprocessing&#x27;,\n",
       "                 ColumnTransformer(transformers=[(&#x27;unigrams&#x27;,\n",
       "                                                  FeatureUnion(transformer_list=[(&#x27;unigrams&#x27;,\n",
       "                                                                                  CountVectorizer())]),\n",
       "                                                  &#x27;text&#x27;),\n",
       "                                                 (&#x27;tfidf&#x27;,\n",
       "                                                  FeatureUnion(transformer_list=[(&#x27;tf-idf&#x27;,\n",
       "                                                                                  TfidfVectorizer(min_df=10,\n",
       "                                                                                                  ngram_range=(1,\n",
       "                                                                                                               2)))]),\n",
       "                                                  &#x27;text&#x27;),\n",
       "                                                 (&#x27;Length&#x27;, Length(), &#x27;text&#x27;),\n",
       "                                                 (&#x27;AboveMean&#x27;, AboveMean(),\n",
       "                                                  &#x27;text&#x27;),\n",
       "                                                 (&#x27;Question&#x27;, Question(),\n",
       "                                                  &#x27;text&#x27;),\n",
       "                                                 (&#x27;HasNum&#x27;, HasNum(), &#x27;text&#x27;),\n",
       "                                                 (&#x27;NumEntities&#x27;, NumEntities(),\n",
       "                                                  &#x27;text&#x27;)],\n",
       "                                   verbose=True)),\n",
       "                (&#x27;classify&#x27;, LogisticRegression(C=100000.0, n_jobs=1))],\n",
       "         verbose=True)</pre><b>In a Jupyter environment, please rerun this cell to show the HTML representation or trust the notebook. <br />On GitHub, the HTML representation is unable to render, please try loading this page with nbviewer.org.</b></div><div class=\"sk-container\" hidden><div class=\"sk-item sk-dashed-wrapped\"><div class=\"sk-label-container\"><div class=\"sk-label sk-toggleable\"><input class=\"sk-toggleable__control sk-hidden--visually\" id=\"sk-estimator-id-1\" type=\"checkbox\" ><label for=\"sk-estimator-id-1\" class=\"sk-toggleable__label sk-toggleable__label-arrow\">Pipeline</label><div class=\"sk-toggleable__content\"><pre>Pipeline(steps=[(&#x27;preprocessing&#x27;,\n",
       "                 ColumnTransformer(transformers=[(&#x27;unigrams&#x27;,\n",
       "                                                  FeatureUnion(transformer_list=[(&#x27;unigrams&#x27;,\n",
       "                                                                                  CountVectorizer())]),\n",
       "                                                  &#x27;text&#x27;),\n",
       "                                                 (&#x27;tfidf&#x27;,\n",
       "                                                  FeatureUnion(transformer_list=[(&#x27;tf-idf&#x27;,\n",
       "                                                                                  TfidfVectorizer(min_df=10,\n",
       "                                                                                                  ngram_range=(1,\n",
       "                                                                                                               2)))]),\n",
       "                                                  &#x27;text&#x27;),\n",
       "                                                 (&#x27;Length&#x27;, Length(), &#x27;text&#x27;),\n",
       "                                                 (&#x27;AboveMean&#x27;, AboveMean(),\n",
       "                                                  &#x27;text&#x27;),\n",
       "                                                 (&#x27;Question&#x27;, Question(),\n",
       "                                                  &#x27;text&#x27;),\n",
       "                                                 (&#x27;HasNum&#x27;, HasNum(), &#x27;text&#x27;),\n",
       "                                                 (&#x27;NumEntities&#x27;, NumEntities(),\n",
       "                                                  &#x27;text&#x27;)],\n",
       "                                   verbose=True)),\n",
       "                (&#x27;classify&#x27;, LogisticRegression(C=100000.0, n_jobs=1))],\n",
       "         verbose=True)</pre></div></div></div><div class=\"sk-serial\"><div class=\"sk-item sk-dashed-wrapped\"><div class=\"sk-label-container\"><div class=\"sk-label sk-toggleable\"><input class=\"sk-toggleable__control sk-hidden--visually\" id=\"sk-estimator-id-2\" type=\"checkbox\" ><label for=\"sk-estimator-id-2\" class=\"sk-toggleable__label sk-toggleable__label-arrow\">preprocessing: ColumnTransformer</label><div class=\"sk-toggleable__content\"><pre>ColumnTransformer(transformers=[(&#x27;unigrams&#x27;,\n",
       "                                 FeatureUnion(transformer_list=[(&#x27;unigrams&#x27;,\n",
       "                                                                 CountVectorizer())]),\n",
       "                                 &#x27;text&#x27;),\n",
       "                                (&#x27;tfidf&#x27;,\n",
       "                                 FeatureUnion(transformer_list=[(&#x27;tf-idf&#x27;,\n",
       "                                                                 TfidfVectorizer(min_df=10,\n",
       "                                                                                 ngram_range=(1,\n",
       "                                                                                              2)))]),\n",
       "                                 &#x27;text&#x27;),\n",
       "                                (&#x27;Length&#x27;, Length(), &#x27;text&#x27;),\n",
       "                                (&#x27;AboveMean&#x27;, AboveMean(), &#x27;text&#x27;),\n",
       "                                (&#x27;Question&#x27;, Question(), &#x27;text&#x27;),\n",
       "                                (&#x27;HasNum&#x27;, HasNum(), &#x27;text&#x27;),\n",
       "                                (&#x27;NumEntities&#x27;, NumEntities(), &#x27;text&#x27;)],\n",
       "                  verbose=True)</pre></div></div></div><div class=\"sk-parallel\"><div class=\"sk-parallel-item\"><div class=\"sk-item\"><div class=\"sk-label-container\"><div class=\"sk-label sk-toggleable\"><input class=\"sk-toggleable__control sk-hidden--visually\" id=\"sk-estimator-id-3\" type=\"checkbox\" ><label for=\"sk-estimator-id-3\" class=\"sk-toggleable__label sk-toggleable__label-arrow\">unigrams</label><div class=\"sk-toggleable__content\"><pre>text</pre></div></div></div><div class=\"sk-serial\"><div class=\"sk-item sk-dashed-wrapped\"><div class=\"sk-parallel\"><div class=\"sk-parallel-item\"><div class=\"sk-item\"><div class=\"sk-label-container\"><div class=\"sk-label sk-toggleable\"><label>unigrams</label></div></div><div class=\"sk-serial\"><div class=\"sk-item\"><div class=\"sk-estimator sk-toggleable\"><input class=\"sk-toggleable__control sk-hidden--visually\" id=\"sk-estimator-id-4\" type=\"checkbox\" ><label for=\"sk-estimator-id-4\" class=\"sk-toggleable__label sk-toggleable__label-arrow\">CountVectorizer</label><div class=\"sk-toggleable__content\"><pre>CountVectorizer()</pre></div></div></div></div></div></div></div></div></div></div></div><div class=\"sk-parallel-item\"><div class=\"sk-item\"><div class=\"sk-label-container\"><div class=\"sk-label sk-toggleable\"><input class=\"sk-toggleable__control sk-hidden--visually\" id=\"sk-estimator-id-5\" type=\"checkbox\" ><label for=\"sk-estimator-id-5\" class=\"sk-toggleable__label sk-toggleable__label-arrow\">tfidf</label><div class=\"sk-toggleable__content\"><pre>text</pre></div></div></div><div class=\"sk-serial\"><div class=\"sk-item sk-dashed-wrapped\"><div class=\"sk-parallel\"><div class=\"sk-parallel-item\"><div class=\"sk-item\"><div class=\"sk-label-container\"><div class=\"sk-label sk-toggleable\"><label>tf-idf</label></div></div><div class=\"sk-serial\"><div class=\"sk-item\"><div class=\"sk-estimator sk-toggleable\"><input class=\"sk-toggleable__control sk-hidden--visually\" id=\"sk-estimator-id-6\" type=\"checkbox\" ><label for=\"sk-estimator-id-6\" class=\"sk-toggleable__label sk-toggleable__label-arrow\">TfidfVectorizer</label><div class=\"sk-toggleable__content\"><pre>TfidfVectorizer(min_df=10, ngram_range=(1, 2))</pre></div></div></div></div></div></div></div></div></div></div></div><div class=\"sk-parallel-item\"><div class=\"sk-item\"><div class=\"sk-label-container\"><div class=\"sk-label sk-toggleable\"><input class=\"sk-toggleable__control sk-hidden--visually\" id=\"sk-estimator-id-7\" type=\"checkbox\" ><label for=\"sk-estimator-id-7\" class=\"sk-toggleable__label sk-toggleable__label-arrow\">Length</label><div class=\"sk-toggleable__content\"><pre>text</pre></div></div></div><div class=\"sk-serial\"><div class=\"sk-item\"><div class=\"sk-estimator sk-toggleable\"><input class=\"sk-toggleable__control sk-hidden--visually\" id=\"sk-estimator-id-8\" type=\"checkbox\" ><label for=\"sk-estimator-id-8\" class=\"sk-toggleable__label sk-toggleable__label-arrow\">Length</label><div class=\"sk-toggleable__content\"><pre>Length()</pre></div></div></div></div></div></div><div class=\"sk-parallel-item\"><div class=\"sk-item\"><div class=\"sk-label-container\"><div class=\"sk-label sk-toggleable\"><input class=\"sk-toggleable__control sk-hidden--visually\" id=\"sk-estimator-id-9\" type=\"checkbox\" ><label for=\"sk-estimator-id-9\" class=\"sk-toggleable__label sk-toggleable__label-arrow\">AboveMean</label><div class=\"sk-toggleable__content\"><pre>text</pre></div></div></div><div class=\"sk-serial\"><div class=\"sk-item\"><div class=\"sk-estimator sk-toggleable\"><input class=\"sk-toggleable__control sk-hidden--visually\" id=\"sk-estimator-id-10\" type=\"checkbox\" ><label for=\"sk-estimator-id-10\" class=\"sk-toggleable__label sk-toggleable__label-arrow\">AboveMean</label><div class=\"sk-toggleable__content\"><pre>AboveMean()</pre></div></div></div></div></div></div><div class=\"sk-parallel-item\"><div class=\"sk-item\"><div class=\"sk-label-container\"><div class=\"sk-label sk-toggleable\"><input class=\"sk-toggleable__control sk-hidden--visually\" id=\"sk-estimator-id-11\" type=\"checkbox\" ><label for=\"sk-estimator-id-11\" class=\"sk-toggleable__label sk-toggleable__label-arrow\">Question</label><div class=\"sk-toggleable__content\"><pre>text</pre></div></div></div><div class=\"sk-serial\"><div class=\"sk-item\"><div class=\"sk-estimator sk-toggleable\"><input class=\"sk-toggleable__control sk-hidden--visually\" id=\"sk-estimator-id-12\" type=\"checkbox\" ><label for=\"sk-estimator-id-12\" class=\"sk-toggleable__label sk-toggleable__label-arrow\">Question</label><div class=\"sk-toggleable__content\"><pre>Question()</pre></div></div></div></div></div></div><div class=\"sk-parallel-item\"><div class=\"sk-item\"><div class=\"sk-label-container\"><div class=\"sk-label sk-toggleable\"><input class=\"sk-toggleable__control sk-hidden--visually\" id=\"sk-estimator-id-13\" type=\"checkbox\" ><label for=\"sk-estimator-id-13\" class=\"sk-toggleable__label sk-toggleable__label-arrow\">HasNum</label><div class=\"sk-toggleable__content\"><pre>text</pre></div></div></div><div class=\"sk-serial\"><div class=\"sk-item\"><div class=\"sk-estimator sk-toggleable\"><input class=\"sk-toggleable__control sk-hidden--visually\" id=\"sk-estimator-id-14\" type=\"checkbox\" ><label for=\"sk-estimator-id-14\" class=\"sk-toggleable__label sk-toggleable__label-arrow\">HasNum</label><div class=\"sk-toggleable__content\"><pre>HasNum()</pre></div></div></div></div></div></div><div class=\"sk-parallel-item\"><div class=\"sk-item\"><div class=\"sk-label-container\"><div class=\"sk-label sk-toggleable\"><input class=\"sk-toggleable__control sk-hidden--visually\" id=\"sk-estimator-id-15\" type=\"checkbox\" ><label for=\"sk-estimator-id-15\" class=\"sk-toggleable__label sk-toggleable__label-arrow\">NumEntities</label><div class=\"sk-toggleable__content\"><pre>text</pre></div></div></div><div class=\"sk-serial\"><div class=\"sk-item\"><div class=\"sk-estimator sk-toggleable\"><input class=\"sk-toggleable__control sk-hidden--visually\" id=\"sk-estimator-id-16\" type=\"checkbox\" ><label for=\"sk-estimator-id-16\" class=\"sk-toggleable__label sk-toggleable__label-arrow\">NumEntities</label><div class=\"sk-toggleable__content\"><pre>NumEntities()</pre></div></div></div></div></div></div></div></div><div class=\"sk-item\"><div class=\"sk-estimator sk-toggleable\"><input class=\"sk-toggleable__control sk-hidden--visually\" id=\"sk-estimator-id-17\" type=\"checkbox\" ><label for=\"sk-estimator-id-17\" class=\"sk-toggleable__label sk-toggleable__label-arrow\">LogisticRegression</label><div class=\"sk-toggleable__content\"><pre>LogisticRegression(C=100000.0, n_jobs=1)</pre></div></div></div></div></div></div></div>"
      ],
      "text/plain": [
       "Pipeline(steps=[('preprocessing',\n",
       "                 ColumnTransformer(transformers=[('unigrams',\n",
       "                                                  FeatureUnion(transformer_list=[('unigrams',\n",
       "                                                                                  CountVectorizer())]),\n",
       "                                                  'text'),\n",
       "                                                 ('tfidf',\n",
       "                                                  FeatureUnion(transformer_list=[('tf-idf',\n",
       "                                                                                  TfidfVectorizer(min_df=10,\n",
       "                                                                                                  ngram_range=(1,\n",
       "                                                                                                               2)))]),\n",
       "                                                  'text'),\n",
       "                                                 ('Length', Length(), 'text'),\n",
       "                                                 ('AboveMean', AboveMean(),\n",
       "                                                  'text'),\n",
       "                                                 ('Question', Question(),\n",
       "                                                  'text'),\n",
       "                                                 ('HasNum', HasNum(), 'text'),\n",
       "                                                 ('NumEntities', NumEntities(),\n",
       "                                                  'text')],\n",
       "                                   verbose=True)),\n",
       "                ('classify', LogisticRegression(C=100000.0, n_jobs=1))],\n",
       "         verbose=True)"
      ]
     },
     "execution_count": 11,
     "metadata": {},
     "output_type": "execute_result"
    }
   ],
   "source": [
    "pipeline = get_feature_pipeline()\n",
    "pipeline.fit(X, y)"
   ]
  },
  {
   "cell_type": "code",
   "execution_count": 15,
   "metadata": {},
   "outputs": [],
   "source": [
    "evaluate = load_input(\"../Data/webis-clickbait-22/validation.jsonl\")\n",
    "y_evaluate = evaluate['tags'].explode()"
   ]
  },
  {
   "cell_type": "code",
   "execution_count": 16,
   "metadata": {},
   "outputs": [],
   "source": [
    "X_evaluate = evaluate['postText'] + evaluate['targetParagraphs']\n",
    "X_evaluate = X_evaluate.apply(\" \".join)\n",
    "X_evaluate = X_evaluate.to_frame(name=\"text\")"
   ]
  },
  {
   "cell_type": "code",
   "execution_count": 31,
   "metadata": {},
   "outputs": [],
   "source": [
    "with open(\"../preprocessor.pkl\", \"rb\") as f:\n",
    "    preprocessor = pickle.load(f)"
   ]
  },
  {
   "cell_type": "code",
   "execution_count": 37,
   "metadata": {},
   "outputs": [],
   "source": [
    "with open(\"../model.pkl\", \"rb\") as f:\n",
    "    pipeline = pickle.load(f)"
   ]
  },
  {
   "cell_type": "code",
   "execution_count": 34,
   "metadata": {},
   "outputs": [],
   "source": [
    "X_evaluate[\"text\"] = preprocessor.transform(X_evaluate[\"text\"])"
   ]
  },
  {
   "cell_type": "code",
   "execution_count": 38,
   "metadata": {},
   "outputs": [],
   "source": [
    "y_pred = pipeline.predict(X_evaluate)"
   ]
  },
  {
   "cell_type": "code",
   "execution_count": 41,
   "metadata": {},
   "outputs": [
    {
     "data": {
      "text/plain": [
       "0.46875"
      ]
     },
     "execution_count": 41,
     "metadata": {},
     "output_type": "execute_result"
    }
   ],
   "source": [
    "from sklearn.metrics import f1_score\n",
    "\n",
    "f1_score(y_evaluate, y_pred, average='micro')"
   ]
  },
  {
   "cell_type": "code",
   "execution_count": null,
   "metadata": {},
   "outputs": [],
   "source": []
  }
 ],
 "metadata": {
  "kernelspec": {
   "display_name": "ANLP",
   "language": "python",
   "name": "python3"
  },
  "language_info": {
   "codemirror_mode": {
    "name": "ipython",
    "version": 3
   },
   "file_extension": ".py",
   "mimetype": "text/x-python",
   "name": "python",
   "nbconvert_exporter": "python",
   "pygments_lexer": "ipython3",
   "version": "3.8.13"
  },
  "orig_nbformat": 4,
  "vscode": {
   "interpreter": {
    "hash": "a963ddbb9d4d2ccdf936f46bc94ee37518f3a93a08eb4602276258409c4ce148"
   }
  }
 },
 "nbformat": 4,
 "nbformat_minor": 2
}
