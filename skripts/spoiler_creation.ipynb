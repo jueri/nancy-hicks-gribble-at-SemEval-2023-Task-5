{
 "cells": [
  {
   "cell_type": "code",
   "execution_count": 1,
   "metadata": {},
   "outputs": [
    {
     "ename": "ModuleNotFoundError",
     "evalue": "No module named 'transformers'",
     "output_type": "error",
     "traceback": [
      "\u001b[0;31m---------------------------------------------------------------------------\u001b[0m",
      "\u001b[0;31mModuleNotFoundError\u001b[0m                       Traceback (most recent call last)",
      "Cell \u001b[0;32mIn [1], line 4\u001b[0m\n\u001b[1;32m      2\u001b[0m \u001b[39mimport\u001b[39;00m \u001b[39mpandas\u001b[39;00m \u001b[39mas\u001b[39;00m \u001b[39mpd\u001b[39;00m\n\u001b[1;32m      3\u001b[0m \u001b[39mimport\u001b[39;00m \u001b[39mpyterrier\u001b[39;00m \u001b[39mas\u001b[39;00m \u001b[39mpt\u001b[39;00m\n\u001b[0;32m----> 4\u001b[0m \u001b[39mfrom\u001b[39;00m \u001b[39mtransformers\u001b[39;00m \u001b[39mimport\u001b[39;00m pipeline\n\u001b[1;32m      5\u001b[0m \u001b[39mimport\u001b[39;00m \u001b[39mpandas\u001b[39;00m \u001b[39mas\u001b[39;00m \u001b[39mpd\u001b[39;00m\n\u001b[1;32m      6\u001b[0m \u001b[39mimport\u001b[39;00m \u001b[39mmatplotlib\u001b[39;00m\u001b[39m.\u001b[39;00m\u001b[39mpyplot\u001b[39;00m \u001b[39mas\u001b[39;00m \u001b[39mplt\u001b[39;00m\n",
      "\u001b[0;31mModuleNotFoundError\u001b[0m: No module named 'transformers'"
     ]
    }
   ],
   "source": [
    "from typing import List, Dict\n",
    "import pandas as pd\n",
    "import pyterrier as pt\n",
    "from transformers import pipeline\n",
    "import pandas as pd\n",
    "import matplotlib.pyplot as plt\n",
    "from typing import List, Dict\n",
    "from datasets import Dataset\n",
    "from transformers import AdamW, AutoTokenizer, AutoModelForSequenceClassification\n",
    "from transformers import TrainingArguments, Trainer\n",
    "import numpy as np\n",
    "import evaluate\n",
    "from transformers import DataCollatorWithPadding\n",
    "from datetime import datetime\n",
    "from transformers import pipeline\n",
    "import os\n",
    "import csv\n",
    "\n",
    "pt.init()"
   ]
  },
  {
   "cell_type": "code",
   "execution_count": 2,
   "metadata": {},
   "outputs": [],
   "source": [
    "def load_dataset(\n",
    "    files: Dict[str, str]={\"train\": \"Data/webis-clickbait-22/train.jsonl\", \"validation\":\"Data/webis-clickbait-22/validation.jsonl\"}) -> pd.DataFrame:\n",
    "    mapping: Dict[str, str]={'passage': 0, 'phrase':1, 'multi':2}\n",
    "\n",
    "    dataset = {}\n",
    "    \n",
    "    def load_data(file: str):\n",
    "        df = pd.read_json(file, lines=True)\n",
    "        return df\n",
    "\n",
    "\n",
    "    for split in list(files.keys()):\n",
    "        dataset[split] = load_data(files[split])\n",
    "\n",
    "        \n",
    "    return dataset"
   ]
  },
  {
   "cell_type": "code",
   "execution_count": 3,
   "metadata": {},
   "outputs": [],
   "source": [
    "dataset = load_dataset()"
   ]
  },
  {
   "cell_type": "code",
   "execution_count": 4,
   "metadata": {},
   "outputs": [],
   "source": [
    "for _, row in dataset[\"train\"].iterrows():\n",
    "    break"
   ]
  },
  {
   "cell_type": "markdown",
   "metadata": {},
   "source": [
    "# Type classification"
   ]
  },
  {
   "cell_type": "code",
   "execution_count": 14,
   "metadata": {},
   "outputs": [
    {
     "ename": "ModuleNotFoundError",
     "evalue": "No module named 'transformers'",
     "output_type": "error",
     "traceback": [
      "\u001b[0;31m---------------------------------------------------------------------------\u001b[0m",
      "\u001b[0;31mModuleNotFoundError\u001b[0m                       Traceback (most recent call last)",
      "Cell \u001b[0;32mIn [14], line 1\u001b[0m\n\u001b[0;32m----> 1\u001b[0m \u001b[39mfrom\u001b[39;00m \u001b[39mtransformers\u001b[39;00m \u001b[39mimport\u001b[39;00m AdamW, AutoTokenizer, AutoModelForSequenceClassification\n\u001b[1;32m      2\u001b[0m \u001b[39mimport\u001b[39;00m \u001b[39mtorch\u001b[39;00m\n\u001b[1;32m      4\u001b[0m \u001b[39m# Multi model prediction\u001b[39;00m\n",
      "\u001b[0;31mModuleNotFoundError\u001b[0m: No module named 'transformers'"
     ]
    }
   ],
   "source": [
    "from transformers import AdamW, AutoTokenizer, AutoModelForSequenceClassification\n",
    "import torch\n",
    "\n",
    "# Multi model prediction\n",
    "checkpoint = \"path to model\"\n",
    "model = AutoModelForSequenceClassification.from_pretrained(checkpoint, num_labels=3)\n",
    "tokenizer = AutoTokenizer.from_pretrained(checkpoint)\n",
    "mapping = {0: 'passage', 1: 'phrase', 2: 'multi'}\n",
    "\n",
    "def predict_one(text, model):\n",
    "    tokenized = tokenizer(text, padding=True, truncation=True, return_tensors=\"pt\")\n",
    "    with torch.no_grad():\n",
    "        logits = model(**tokenized).logits\n",
    "    predicted_class_id = logits.argmax().item()\n",
    "    return mapping[predicted_class_id]\n",
    "\n",
    "predicted_tag = predict_one(text, model)"
   ]
  },
  {
   "cell_type": "code",
   "execution_count": null,
   "metadata": {},
   "outputs": [],
   "source": [
    "# one vs rest prediction\n",
    "checkpoint = {\"passage\": \"path to model\", \"phrase\": \"path to model\", \"multi\": \"path to model\"}\n",
    "tokenizer = AutoTokenizer.from_pretrained(checkpoint[\"passage\"])\n",
    "models = {\n",
    "    \"passage\": AutoModelForSequenceClassification.from_pretrained(checkpoint[\"passage\"], num_labels=2),\n",
    "    \"phrase\": AutoModelForSequenceClassification.from_pretrained(checkpoint[\"phrase\"], num_labels=2),\n",
    "    \"multi\": AutoModelForSequenceClassification.from_pretrained(checkpoint[\"multi\"], num_labels=2)\n",
    "}\n",
    "\n",
    "def predict_one_multi(text, model):\n",
    "    def predict_probability(text, model):\n",
    "        tokenized = tokenizer(text, padding=True, truncation=True, return_tensors=\"pt\")\n",
    "        with torch.no_grad():\n",
    "            logits = model(**tokenized).logits\n",
    "        return logits.argmax()\n",
    "\n",
    "\n",
    "    probabilities = {}\n",
    "    for tag_name, model in models.items():\n",
    "        probability = predict_probability(text, model)\n",
    "        probabilities[tag_name] = probability\n",
    "\n",
    "    return max(probabilities, key=probabilities.get)\n",
    "\n",
    "\n",
    "predicted_tag = predict_one_multi(text, models)"
   ]
  },
  {
   "cell_type": "markdown",
   "metadata": {},
   "source": [
    "# Passage retrieval"
   ]
  },
  {
   "cell_type": "code",
   "execution_count": 11,
   "metadata": {},
   "outputs": [
    {
     "name": "stdout",
     "output_type": "stream",
     "text": [
      "18:30:08.449 [main] WARN org.terrier.querying.ApplyTermPipeline - The index has no termpipelines configuration, and no control configuration is found. Defaulting to global termpipelines configuration of 'Stopwords,PorterStemmer'. Set a termpipelines control to remove this warning.\n"
     ]
    }
   ],
   "source": [
    "passages = pd.DataFrame({\n",
    "    \"qid\": \"q1\",\n",
    "    \"query\": [row[\"postText\"][0] for _ in range(len(row[\"targetParagraphs\"]))],\n",
    "    \"docno\": [\"d\"+str(i+1) for i in range(len(row[\"targetParagraphs\"]))],\n",
    "    \"text\": row[\"targetParagraphs\"], \n",
    "    })\n",
    "textscorer = pt.text.scorer(body_attr=\"text\", wmodel=\"BM25\")\n",
    "rtr = textscorer.transform(passages)"
   ]
  },
  {
   "cell_type": "code",
   "execution_count": 12,
   "metadata": {},
   "outputs": [
    {
     "data": {
      "text/html": [
       "<div>\n",
       "<style scoped>\n",
       "    .dataframe tbody tr th:only-of-type {\n",
       "        vertical-align: middle;\n",
       "    }\n",
       "\n",
       "    .dataframe tbody tr th {\n",
       "        vertical-align: top;\n",
       "    }\n",
       "\n",
       "    .dataframe thead th {\n",
       "        text-align: right;\n",
       "    }\n",
       "</style>\n",
       "<table border=\"1\" class=\"dataframe\">\n",
       "  <thead>\n",
       "    <tr style=\"text-align: right;\">\n",
       "      <th></th>\n",
       "      <th>qid</th>\n",
       "      <th>docno</th>\n",
       "      <th>text</th>\n",
       "      <th>rank</th>\n",
       "      <th>score</th>\n",
       "      <th>query</th>\n",
       "    </tr>\n",
       "  </thead>\n",
       "  <tbody>\n",
       "    <tr>\n",
       "      <th>0</th>\n",
       "      <td>q1</td>\n",
       "      <td>d1</td>\n",
       "      <td>It’ll be just like old times this weekend for ...</td>\n",
       "      <td>0</td>\n",
       "      <td>2.692426</td>\n",
       "      <td>Wes Welker Wanted Dinner With Tom Brady, But P...</td>\n",
       "    </tr>\n",
       "    <tr>\n",
       "      <th>2</th>\n",
       "      <td>q1</td>\n",
       "      <td>d3</td>\n",
       "      <td>But Brady’s definition of \"catching up\" involv...</td>\n",
       "      <td>1</td>\n",
       "      <td>0.385074</td>\n",
       "      <td>Wes Welker Wanted Dinner With Tom Brady, But P...</td>\n",
       "    </tr>\n",
       "    <tr>\n",
       "      <th>3</th>\n",
       "      <td>q1</td>\n",
       "      <td>d4</td>\n",
       "      <td>\"I hit him up to do dinner Saturday night. He’...</td>\n",
       "      <td>2</td>\n",
       "      <td>-0.355864</td>\n",
       "      <td>Wes Welker Wanted Dinner With Tom Brady, But P...</td>\n",
       "    </tr>\n",
       "    <tr>\n",
       "      <th>4</th>\n",
       "      <td>q1</td>\n",
       "      <td>d5</td>\n",
       "      <td>Welker was one of Brady’s favorite targets for...</td>\n",
       "      <td>3</td>\n",
       "      <td>-0.795285</td>\n",
       "      <td>Wes Welker Wanted Dinner With Tom Brady, But P...</td>\n",
       "    </tr>\n",
       "    <tr>\n",
       "      <th>5</th>\n",
       "      <td>q1</td>\n",
       "      <td>d6</td>\n",
       "      <td>\"That’s the only thing we really have planned,...</td>\n",
       "      <td>4</td>\n",
       "      <td>-0.875628</td>\n",
       "      <td>Wes Welker Wanted Dinner With Tom Brady, But P...</td>\n",
       "    </tr>\n",
       "    <tr>\n",
       "      <th>1</th>\n",
       "      <td>q1</td>\n",
       "      <td>d2</td>\n",
       "      <td>Welker revealed Friday morning on a Miami radi...</td>\n",
       "      <td>5</td>\n",
       "      <td>-1.656121</td>\n",
       "      <td>Wes Welker Wanted Dinner With Tom Brady, But P...</td>\n",
       "    </tr>\n",
       "    <tr>\n",
       "      <th>6</th>\n",
       "      <td>q1</td>\n",
       "      <td>d7</td>\n",
       "      <td>Maybe Brady will put a good word in for Welker...</td>\n",
       "      <td>6</td>\n",
       "      <td>-2.125572</td>\n",
       "      <td>Wes Welker Wanted Dinner With Tom Brady, But P...</td>\n",
       "    </tr>\n",
       "  </tbody>\n",
       "</table>\n",
       "</div>"
      ],
      "text/plain": [
       "  qid docno                                               text  rank  \\\n",
       "0  q1    d1  It’ll be just like old times this weekend for ...     0   \n",
       "2  q1    d3  But Brady’s definition of \"catching up\" involv...     1   \n",
       "3  q1    d4  \"I hit him up to do dinner Saturday night. He’...     2   \n",
       "4  q1    d5  Welker was one of Brady’s favorite targets for...     3   \n",
       "5  q1    d6  \"That’s the only thing we really have planned,...     4   \n",
       "1  q1    d2  Welker revealed Friday morning on a Miami radi...     5   \n",
       "6  q1    d7  Maybe Brady will put a good word in for Welker...     6   \n",
       "\n",
       "      score                                              query  \n",
       "0  2.692426  Wes Welker Wanted Dinner With Tom Brady, But P...  \n",
       "2  0.385074  Wes Welker Wanted Dinner With Tom Brady, But P...  \n",
       "3 -0.355864  Wes Welker Wanted Dinner With Tom Brady, But P...  \n",
       "4 -0.795285  Wes Welker Wanted Dinner With Tom Brady, But P...  \n",
       "5 -0.875628  Wes Welker Wanted Dinner With Tom Brady, But P...  \n",
       "1 -1.656121  Wes Welker Wanted Dinner With Tom Brady, But P...  \n",
       "6 -2.125572  Wes Welker Wanted Dinner With Tom Brady, But P...  "
      ]
     },
     "execution_count": 12,
     "metadata": {},
     "output_type": "execute_result"
    }
   ],
   "source": [
    "rtr.sort_values(\"rank\", ascending=True)"
   ]
  },
  {
   "cell_type": "markdown",
   "metadata": {},
   "source": [
    "# Generation decision"
   ]
  },
  {
   "cell_type": "code",
   "execution_count": null,
   "metadata": {},
   "outputs": [],
   "source": [
    "if tags[0] == \"phrase\":\n",
    "    spoiler = answer_sequence(rtr.sort_values(\"rank\", ascending=True).iloc[0][\"text\"], rtr.sort_values(\"rank\", ascending=True).iloc[0][\"query\"])\n",
    "\n",
    "elif tags[0] == \"passage\":\n",
    "    spoiler = answer_sequence(rtr.sort_values(\"rank\", ascending=True).iloc[0][\"text\"], rtr.sort_values(\"rank\", ascending=True).iloc[0][\"query\"])\n",
    "    \n",
    "elif tags[0] == \"multi\":\n",
    "    num_answers = estimate_answers(row[\"postText\"][0])"
   ]
  },
  {
   "cell_type": "code",
   "execution_count": null,
   "metadata": {},
   "outputs": [],
   "source": [
    "qa_model = pipeline(\"question-answering\", model=\"mirbostani/bert-base-uncased-finetuned-newsqa\")\n",
    "\n",
    "def answer_sequence(passages: str, post: str) -> str:\n",
    "    results = []\n",
    "    res = qa_model(question = post, context = passages)\n",
    "    return res"
   ]
  },
  {
   "cell_type": "code",
   "execution_count": null,
   "metadata": {},
   "outputs": [],
   "source": [
    "def estimate_answers() -> int:\n",
    "    return 1"
   ]
  },
  {
   "cell_type": "code",
   "execution_count": 36,
   "metadata": {},
   "outputs": [],
   "source": [
    "dataset[\"train\"][\"tags_clean\"]=dataset[\"train\"][\"tags\"].explode()"
   ]
  },
  {
   "cell_type": "code",
   "execution_count": 49,
   "metadata": {},
   "outputs": [],
   "source": [
    "paragraphs = dataset[\"train\"][dataset[\"train\"][\"tags_clean\"]==\"passage\"][[\"targetParagraphs\", \"spoiler\"]].explode(\"targetParagraphs\").explode(\"spoiler\")"
   ]
  },
  {
   "cell_type": "code",
   "execution_count": 51,
   "metadata": {},
   "outputs": [
    {
     "data": {
      "text/html": [
       "<div>\n",
       "<style scoped>\n",
       "    .dataframe tbody tr th:only-of-type {\n",
       "        vertical-align: middle;\n",
       "    }\n",
       "\n",
       "    .dataframe tbody tr th {\n",
       "        vertical-align: top;\n",
       "    }\n",
       "\n",
       "    .dataframe thead th {\n",
       "        text-align: right;\n",
       "    }\n",
       "</style>\n",
       "<table border=\"1\" class=\"dataframe\">\n",
       "  <thead>\n",
       "    <tr style=\"text-align: right;\">\n",
       "      <th></th>\n",
       "      <th>targetParagraphs</th>\n",
       "      <th>spoiler</th>\n",
       "    </tr>\n",
       "  </thead>\n",
       "  <tbody>\n",
       "    <tr>\n",
       "      <th>26</th>\n",
       "      <td>The off-duty officer ended up eating at the ch...</td>\n",
       "      <td>The off-duty officer ended up eating at the ch...</td>\n",
       "    </tr>\n",
       "    <tr>\n",
       "      <th>107</th>\n",
       "      <td>A man looking to blame President-Elect Donald ...</td>\n",
       "      <td>A man looking to blame President-Elect Donald ...</td>\n",
       "    </tr>\n",
       "    <tr>\n",
       "      <th>129</th>\n",
       "      <td>Ariel Winter, who plays Alex on \"Modern Family...</td>\n",
       "      <td>Ariel Winter, who plays Alex on \"Modern Family...</td>\n",
       "    </tr>\n",
       "    <tr>\n",
       "      <th>135</th>\n",
       "      <td>\"Back then, I still felt I was trying to figur...</td>\n",
       "      <td>\"Back then, I still felt I was trying to figur...</td>\n",
       "    </tr>\n",
       "    <tr>\n",
       "      <th>147</th>\n",
       "      <td>She took the kitten home and named it Bruce, a...</td>\n",
       "      <td>She took the kitten home and named it Bruce, a...</td>\n",
       "    </tr>\n",
       "    <tr>\n",
       "      <th>...</th>\n",
       "      <td>...</td>\n",
       "      <td>...</td>\n",
       "    </tr>\n",
       "    <tr>\n",
       "      <th>3121</th>\n",
       "      <td>You'll still be able to get your PERinaise, le...</td>\n",
       "      <td>You'll still be able to get your PERinaise, le...</td>\n",
       "    </tr>\n",
       "    <tr>\n",
       "      <th>3134</th>\n",
       "      <td>According to The Sun, a total lunar eclipse wi...</td>\n",
       "      <td>According to The Sun, a total lunar eclipse wi...</td>\n",
       "    </tr>\n",
       "    <tr>\n",
       "      <th>3149</th>\n",
       "      <td>An online feud between pop stars Rihanna and A...</td>\n",
       "      <td>An online feud between pop stars Rihanna and A...</td>\n",
       "    </tr>\n",
       "    <tr>\n",
       "      <th>3174</th>\n",
       "      <td>And while there are good signs for Trump in th...</td>\n",
       "      <td>And while there are good signs for Trump in th...</td>\n",
       "    </tr>\n",
       "    <tr>\n",
       "      <th>3184</th>\n",
       "      <td>Because of strict aesthetic standards placed o...</td>\n",
       "      <td>Because of strict aesthetic standards placed o...</td>\n",
       "    </tr>\n",
       "  </tbody>\n",
       "</table>\n",
       "<p>184 rows × 2 columns</p>\n",
       "</div>"
      ],
      "text/plain": [
       "                                       targetParagraphs  \\\n",
       "26    The off-duty officer ended up eating at the ch...   \n",
       "107   A man looking to blame President-Elect Donald ...   \n",
       "129   Ariel Winter, who plays Alex on \"Modern Family...   \n",
       "135   \"Back then, I still felt I was trying to figur...   \n",
       "147   She took the kitten home and named it Bruce, a...   \n",
       "...                                                 ...   \n",
       "3121  You'll still be able to get your PERinaise, le...   \n",
       "3134  According to The Sun, a total lunar eclipse wi...   \n",
       "3149  An online feud between pop stars Rihanna and A...   \n",
       "3174  And while there are good signs for Trump in th...   \n",
       "3184  Because of strict aesthetic standards placed o...   \n",
       "\n",
       "                                                spoiler  \n",
       "26    The off-duty officer ended up eating at the ch...  \n",
       "107   A man looking to blame President-Elect Donald ...  \n",
       "129   Ariel Winter, who plays Alex on \"Modern Family...  \n",
       "135   \"Back then, I still felt I was trying to figur...  \n",
       "147   She took the kitten home and named it Bruce, a...  \n",
       "...                                                 ...  \n",
       "3121  You'll still be able to get your PERinaise, le...  \n",
       "3134  According to The Sun, a total lunar eclipse wi...  \n",
       "3149  An online feud between pop stars Rihanna and A...  \n",
       "3174  And while there are good signs for Trump in th...  \n",
       "3184  Because of strict aesthetic standards placed o...  \n",
       "\n",
       "[184 rows x 2 columns]"
      ]
     },
     "execution_count": 51,
     "metadata": {},
     "output_type": "execute_result"
    }
   ],
   "source": [
    "paragraphs[paragraphs[\"targetParagraphs\"]==paragraphs[\"spoiler\"]]"
   ]
  },
  {
   "cell_type": "code",
   "execution_count": 54,
   "metadata": {},
   "outputs": [
    {
     "data": {
      "text/plain": [
       "tags_clean\n",
       "multi       559\n",
       "passage    1274\n",
       "phrase     1367\n",
       "Name: tags_clean, dtype: int64"
      ]
     },
     "execution_count": 54,
     "metadata": {},
     "output_type": "execute_result"
    }
   ],
   "source": [
    "dataset[\"train\"][\"tags_clean\"].groupby(dataset[\"train\"][\"tags_clean\"]).count()"
   ]
  },
  {
   "cell_type": "code",
   "execution_count": 55,
   "metadata": {},
   "outputs": [
    {
     "data": {
      "text/html": [
       "<div>\n",
       "<style scoped>\n",
       "    .dataframe tbody tr th:only-of-type {\n",
       "        vertical-align: middle;\n",
       "    }\n",
       "\n",
       "    .dataframe tbody tr th {\n",
       "        vertical-align: top;\n",
       "    }\n",
       "\n",
       "    .dataframe thead th {\n",
       "        text-align: right;\n",
       "    }\n",
       "</style>\n",
       "<table border=\"1\" class=\"dataframe\">\n",
       "  <thead>\n",
       "    <tr style=\"text-align: right;\">\n",
       "      <th></th>\n",
       "      <th>targetParagraphs</th>\n",
       "      <th>spoiler</th>\n",
       "    </tr>\n",
       "  </thead>\n",
       "  <tbody>\n",
       "    <tr>\n",
       "      <th>0</th>\n",
       "      <td>It’ll be just like old times this weekend for ...</td>\n",
       "      <td>how about that morning we go throw?</td>\n",
       "    </tr>\n",
       "    <tr>\n",
       "      <th>0</th>\n",
       "      <td>Welker revealed Friday morning on a Miami radi...</td>\n",
       "      <td>how about that morning we go throw?</td>\n",
       "    </tr>\n",
       "    <tr>\n",
       "      <th>0</th>\n",
       "      <td>But Brady’s definition of \"catching up\" involv...</td>\n",
       "      <td>how about that morning we go throw?</td>\n",
       "    </tr>\n",
       "    <tr>\n",
       "      <th>0</th>\n",
       "      <td>\"I hit him up to do dinner Saturday night. He’...</td>\n",
       "      <td>how about that morning we go throw?</td>\n",
       "    </tr>\n",
       "    <tr>\n",
       "      <th>0</th>\n",
       "      <td>Welker was one of Brady’s favorite targets for...</td>\n",
       "      <td>how about that morning we go throw?</td>\n",
       "    </tr>\n",
       "    <tr>\n",
       "      <th>...</th>\n",
       "      <td>...</td>\n",
       "      <td>...</td>\n",
       "    </tr>\n",
       "    <tr>\n",
       "      <th>3195</th>\n",
       "      <td>One interesting note from last night’s gatheri...</td>\n",
       "      <td>it hasn’t necessarily taken the wind out of Yo...</td>\n",
       "    </tr>\n",
       "    <tr>\n",
       "      <th>3195</th>\n",
       "      <td>\"Facebook’s focus on real identity allows for ...</td>\n",
       "      <td>it hasn’t necessarily taken the wind out of Yo...</td>\n",
       "    </tr>\n",
       "    <tr>\n",
       "      <th>3196</th>\n",
       "      <td>The Kansas City, Kansas Police Department are ...</td>\n",
       "      <td>It read, \"Thanks for keeping us safe.\"</td>\n",
       "    </tr>\n",
       "    <tr>\n",
       "      <th>3196</th>\n",
       "      <td>KCK Police Department’s Facebook posted furthe...</td>\n",
       "      <td>It read, \"Thanks for keeping us safe.\"</td>\n",
       "    </tr>\n",
       "    <tr>\n",
       "      <th>3196</th>\n",
       "      <td>The officers were touched by this tidal wave o...</td>\n",
       "      <td>It read, \"Thanks for keeping us safe.\"</td>\n",
       "    </tr>\n",
       "  </tbody>\n",
       "</table>\n",
       "<p>16745 rows × 2 columns</p>\n",
       "</div>"
      ],
      "text/plain": [
       "                                       targetParagraphs  \\\n",
       "0     It’ll be just like old times this weekend for ...   \n",
       "0     Welker revealed Friday morning on a Miami radi...   \n",
       "0     But Brady’s definition of \"catching up\" involv...   \n",
       "0     \"I hit him up to do dinner Saturday night. He’...   \n",
       "0     Welker was one of Brady’s favorite targets for...   \n",
       "...                                                 ...   \n",
       "3195  One interesting note from last night’s gatheri...   \n",
       "3195  \"Facebook’s focus on real identity allows for ...   \n",
       "3196  The Kansas City, Kansas Police Department are ...   \n",
       "3196  KCK Police Department’s Facebook posted furthe...   \n",
       "3196  The officers were touched by this tidal wave o...   \n",
       "\n",
       "                                                spoiler  \n",
       "0                   how about that morning we go throw?  \n",
       "0                   how about that morning we go throw?  \n",
       "0                   how about that morning we go throw?  \n",
       "0                   how about that morning we go throw?  \n",
       "0                   how about that morning we go throw?  \n",
       "...                                                 ...  \n",
       "3195  it hasn’t necessarily taken the wind out of Yo...  \n",
       "3195  it hasn’t necessarily taken the wind out of Yo...  \n",
       "3196             It read, \"Thanks for keeping us safe.\"  \n",
       "3196             It read, \"Thanks for keeping us safe.\"  \n",
       "3196             It read, \"Thanks for keeping us safe.\"  \n",
       "\n",
       "[16745 rows x 2 columns]"
      ]
     },
     "execution_count": 55,
     "metadata": {},
     "output_type": "execute_result"
    }
   ],
   "source": [
    "paragraphs"
   ]
  },
  {
   "cell_type": "code",
   "execution_count": null,
   "metadata": {},
   "outputs": [],
   "source": []
  }
 ],
 "metadata": {
  "kernelspec": {
   "display_name": "Python 3.8.13 ('ANLP')",
   "language": "python",
   "name": "python3"
  },
  "language_info": {
   "codemirror_mode": {
    "name": "ipython",
    "version": 3
   },
   "file_extension": ".py",
   "mimetype": "text/x-python",
   "name": "python",
   "nbconvert_exporter": "python",
   "pygments_lexer": "ipython3",
   "version": "3.8.13 (default, Oct 21 2022, 23:50:54) \n[GCC 11.2.0]"
  },
  "orig_nbformat": 4,
  "vscode": {
   "interpreter": {
    "hash": "a963ddbb9d4d2ccdf936f46bc94ee37518f3a93a08eb4602276258409c4ce148"
   }
  }
 },
 "nbformat": 4,
 "nbformat_minor": 2
}
