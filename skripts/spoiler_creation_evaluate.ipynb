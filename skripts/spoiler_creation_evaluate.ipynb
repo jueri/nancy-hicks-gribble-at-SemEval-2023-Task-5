{
  "cells": [
    {
      "cell_type": "code",
      "execution_count": null,
      "metadata": {
        "id": "TKw80xK5EEa5"
      },
      "outputs": [],
      "source": [
        "from nltk.tokenize import word_tokenize\n",
        "import pandas as pd\n",
        "import matplotlib.pyplot as plt\n",
        "from typing import List, Dict\n",
        "from datasets import Dataset\n",
        "from transformers import AdamW, AutoTokenizer, AutoModelForSequenceClassification\n",
        "from transformers import TrainingArguments, Trainer\n",
        "import numpy as np\n",
        "import evaluate\n",
        "from transformers import DataCollatorWithPadding\n",
        "from datetime import datetime\n",
        "from transformers import pipeline\n",
        "import os\n",
        "import csv\n",
        "import nltk\n",
        "from nltk.tokenize import word_tokenize\n"
      ]
    },
    {
      "cell_type": "code",
      "execution_count": null,
      "metadata": {
        "colab": {
          "base_uri": "https://localhost:8080/"
        },
        "id": "f5-AhLpIFOnE",
        "outputId": "af62185f-5fab-4a0d-ad98-22063eb91547"
      },
      "outputs": [
        {
          "name": "stderr",
          "output_type": "stream",
          "text": [
            "[nltk_data] Downloading package punkt to /root/nltk_data...\n",
            "[nltk_data]   Unzipping tokenizers/punkt.zip.\n"
          ]
        },
        {
          "data": {
            "text/plain": [
              "True"
            ]
          },
          "execution_count": 16,
          "metadata": {},
          "output_type": "execute_result"
        }
      ],
      "source": [
        "bleu = evaluate.load('bleu')\n",
        "rouge = evaluate.load('rouge')\n",
        "nltk.download('punkt')"
      ]
    },
    {
      "cell_type": "code",
      "execution_count": null,
      "metadata": {
        "colab": {
          "base_uri": "https://localhost:8080/"
        },
        "id": "BcyprwvOEDnW",
        "outputId": "2a9e0a52-f016-4e54-8bb1-5ddc697577e8"
      },
      "outputs": [
        {
          "data": {
            "text/plain": [
              "{'bleu_general': {'bleu': 0.028108563054622084,\n",
              "  'precisions': [0.2537313432835821,\n",
              "   0.15703786398734765,\n",
              "   0.12478818687969015,\n",
              "   0.11326402016383112],\n",
              "  'brevity_penalty': 0.1824641961801729,\n",
              "  'length_ratio': 0.3702056548341015,\n",
              "  'translation_length': 13735,\n",
              "  'reference_length': 37101},\n",
              " 'bleu_phrase': {'bleu': 0.12707816837556796,\n",
              "  'precisions': [0.2481335952848723,\n",
              "   0.16802096985583223,\n",
              "   0.09894889452700253,\n",
              "   0.06321553011448482],\n",
              "  'brevity_penalty': 1.0,\n",
              "  'length_ratio': 1.407243572021012,\n",
              "  'translation_length': 5090,\n",
              "  'reference_length': 3617},\n",
              " 'bleu_passage': {'bleu': 0.00454915834543437,\n",
              "  'precisions': [0.2810478654592497,\n",
              "   0.16249749849909945,\n",
              "   0.15159107992984214,\n",
              "   0.150571791613723],\n",
              "  'brevity_penalty': 0.025317451978407825,\n",
              "  'length_ratio': 0.21384604744449823,\n",
              "  'translation_length': 6184,\n",
              "  'reference_length': 28918},\n",
              " 'bleu_multi': {'bleu': 0.052871857571551946,\n",
              "  'precisions': [0.19666802112962212,\n",
              "   0.12132163138874548,\n",
              "   0.10119047619047619,\n",
              "   0.09907640638119228],\n",
              "  'brevity_penalty': 0.4251371924603657,\n",
              "  'length_ratio': 0.5389837932544898,\n",
              "  'translation_length': 2461,\n",
              "  'reference_length': 4566}}"
            ]
          },
          "execution_count": 29,
          "metadata": {},
          "output_type": "execute_result"
        }
      ],
      "source": [
        "def evaluate_model():\n",
        "  def ev_bleu(column, table):\n",
        "    if not column:\n",
        "      predictions = results_df[\"answer\"].to_list()\n",
        "      references = results_df[\"spoiler\"].to_list()\n",
        "      column = \"general\"\n",
        "    else:\n",
        "      predictions = results_df[results_df[\"label\"] == column][\"answer\"].to_list()\n",
        "      references = results_df[results_df[\"label\"] == column][\"spoiler\"].to_list()\n",
        "\n",
        "    results = bleu.compute(predictions=predictions, references=references, tokenizer=word_tokenize)\n",
        "    res_table[\"bleu_\"+column] = results\n",
        "\n",
        "  def ev_roughe(column, table):\n",
        "    if not column:\n",
        "      predictions = results_df[\"answer\"].to_list()\n",
        "      references = results_df[\"spoiler\"].to_list()\n",
        "      column = \"general\"\n",
        "    else:\n",
        "      predictions = results_df[results_df[\"label\"] == column][\"answer\"].to_list()\n",
        "      references = results_df[results_df[\"label\"] == column][\"spoiler\"].to_list()\n",
        "\n",
        "    results = rouge.compute(predictions=predictions, references=references, tokenizer=word_tokenize)\n",
        "    res_table[\"rouge_\"+column] = results\n",
        "\n",
        "\n",
        "\n",
        "\n",
        "  result_path = 'Data/newsqa_reults.csv'\n",
        "  results_df = pd.read_csv(result_path)\n",
        "  \n",
        "  res_table = {}\n",
        "  \n",
        "  for col in [\"\", \"phrase\", \"passage\", \"multi\"]:\n",
        "    # ev_roughe(col, res_table)\n",
        "    ev_bleu(col, res_table)\n",
        "  \n",
        "  return res_table\n",
        "\n",
        "res = evaluate_model()\n",
        "res"
      ]
    },
    {
      "cell_type": "code",
      "execution_count": null,
      "metadata": {
        "colab": {
          "base_uri": "https://localhost:8080/"
        },
        "id": "7eslFQxPFO8N",
        "outputId": "014249b3-40f8-494e-eef3-ab11ed5e0351"
      },
      "outputs": [
        {
          "data": {
            "text/plain": [
              "{'bleu': 0.6179654585112234,\n",
              " 'precisions': [0.875, 0.6666666666666666, 0.5, 0.5],\n",
              " 'brevity_penalty': 1.0,\n",
              " 'length_ratio': 1.0,\n",
              " 'translation_length': 8,\n",
              " 'reference_length': 8}"
            ]
          },
          "execution_count": 28,
          "metadata": {},
          "output_type": "execute_result"
        }
      ],
      "source": [
        "bleu.compute(predictions=[\"test is ke test\", \"Da steht ein Haus\"], references=[\"test is ein test\", \"Da steht ein Haus\"], tokenizer=word_tokenize)"
      ]
    },
    {
      "cell_type": "code",
      "execution_count": null,
      "metadata": {
        "id": "ngfIvf9ESMaw"
      },
      "outputs": [],
      "source": [
        "  result_path = 'drive/MyDrive/ANLP/data/newsqa_reults.csv'\n",
        "  results_df = pd.read_csv(result_path)"
      ]
    },
    {
      "cell_type": "code",
      "execution_count": null,
      "metadata": {
        "colab": {
          "base_uri": "https://localhost:8080/",
          "height": 424
        },
        "id": "l9o6JcTdSwNK",
        "outputId": "5ff139ae-e6f4-43ae-fc92-5cb05cfef901"
      },
      "outputs": [
        {
          "data": {
            "text/html": [
              "\n",
              "  <div id=\"df-6f706659-466c-4d91-b7c8-80a266b774ba\">\n",
              "    <div class=\"colab-df-container\">\n",
              "      <div>\n",
              "<style scoped>\n",
              "    .dataframe tbody tr th:only-of-type {\n",
              "        vertical-align: middle;\n",
              "    }\n",
              "\n",
              "    .dataframe tbody tr th {\n",
              "        vertical-align: top;\n",
              "    }\n",
              "\n",
              "    .dataframe thead th {\n",
              "        text-align: right;\n",
              "    }\n",
              "</style>\n",
              "<table border=\"1\" class=\"dataframe\">\n",
              "  <thead>\n",
              "    <tr style=\"text-align: right;\">\n",
              "      <th></th>\n",
              "      <th>spoiler</th>\n",
              "      <th>answer</th>\n",
              "    </tr>\n",
              "  </thead>\n",
              "  <tbody>\n",
              "    <tr>\n",
              "      <th>0</th>\n",
              "      <td>how about that morning we go throw?</td>\n",
              "      <td>IdeaIt’ll be just like old times this weekend</td>\n",
              "    </tr>\n",
              "    <tr>\n",
              "      <th>1</th>\n",
              "      <td>2070</td>\n",
              "      <td>2070:</td>\n",
              "    </tr>\n",
              "    <tr>\n",
              "      <th>2</th>\n",
              "      <td>intellectual stimulation</td>\n",
              "      <td>Intellectual Stimulation</td>\n",
              "    </tr>\n",
              "    <tr>\n",
              "      <th>3</th>\n",
              "      <td>Purpose connects us to something bigger and in...</td>\n",
              "      <td>common wisdom.</td>\n",
              "    </tr>\n",
              "    <tr>\n",
              "      <th>4</th>\n",
              "      <td>in a rice cooker</td>\n",
              "      <td>the bottom of the</td>\n",
              "    </tr>\n",
              "    <tr>\n",
              "      <th>...</th>\n",
              "      <td>...</td>\n",
              "      <td>...</td>\n",
              "    </tr>\n",
              "    <tr>\n",
              "      <th>2994</th>\n",
              "      <td>Matthew Perry</td>\n",
              "      <td>Matthew Perry</td>\n",
              "    </tr>\n",
              "    <tr>\n",
              "      <th>2995</th>\n",
              "      <td>What am I going to learn?</td>\n",
              "      <td>Ivy Ross,</td>\n",
              "    </tr>\n",
              "    <tr>\n",
              "      <th>2996</th>\n",
              "      <td>will perform at MTV's upcoming European Music ...</td>\n",
              "      <td>Amsterdam</td>\n",
              "    </tr>\n",
              "    <tr>\n",
              "      <th>2997</th>\n",
              "      <td>If there's an emergency, we have to be able to...</td>\n",
              "      <td>landingsEver wonder</td>\n",
              "    </tr>\n",
              "    <tr>\n",
              "      <th>2998</th>\n",
              "      <td>men between the ages of 18 and 34 are three-ti...</td>\n",
              "      <td>Millennial men,</td>\n",
              "    </tr>\n",
              "  </tbody>\n",
              "</table>\n",
              "<p>2999 rows × 2 columns</p>\n",
              "</div>\n",
              "      <button class=\"colab-df-convert\" onclick=\"convertToInteractive('df-6f706659-466c-4d91-b7c8-80a266b774ba')\"\n",
              "              title=\"Convert this dataframe to an interactive table.\"\n",
              "              style=\"display:none;\">\n",
              "        \n",
              "  <svg xmlns=\"http://www.w3.org/2000/svg\" height=\"24px\"viewBox=\"0 0 24 24\"\n",
              "       width=\"24px\">\n",
              "    <path d=\"M0 0h24v24H0V0z\" fill=\"none\"/>\n",
              "    <path d=\"M18.56 5.44l.94 2.06.94-2.06 2.06-.94-2.06-.94-.94-2.06-.94 2.06-2.06.94zm-11 1L8.5 8.5l.94-2.06 2.06-.94-2.06-.94L8.5 2.5l-.94 2.06-2.06.94zm10 10l.94 2.06.94-2.06 2.06-.94-2.06-.94-.94-2.06-.94 2.06-2.06.94z\"/><path d=\"M17.41 7.96l-1.37-1.37c-.4-.4-.92-.59-1.43-.59-.52 0-1.04.2-1.43.59L10.3 9.45l-7.72 7.72c-.78.78-.78 2.05 0 2.83L4 21.41c.39.39.9.59 1.41.59.51 0 1.02-.2 1.41-.59l7.78-7.78 2.81-2.81c.8-.78.8-2.07 0-2.86zM5.41 20L4 18.59l7.72-7.72 1.47 1.35L5.41 20z\"/>\n",
              "  </svg>\n",
              "      </button>\n",
              "      \n",
              "  <style>\n",
              "    .colab-df-container {\n",
              "      display:flex;\n",
              "      flex-wrap:wrap;\n",
              "      gap: 12px;\n",
              "    }\n",
              "\n",
              "    .colab-df-convert {\n",
              "      background-color: #E8F0FE;\n",
              "      border: none;\n",
              "      border-radius: 50%;\n",
              "      cursor: pointer;\n",
              "      display: none;\n",
              "      fill: #1967D2;\n",
              "      height: 32px;\n",
              "      padding: 0 0 0 0;\n",
              "      width: 32px;\n",
              "    }\n",
              "\n",
              "    .colab-df-convert:hover {\n",
              "      background-color: #E2EBFA;\n",
              "      box-shadow: 0px 1px 2px rgba(60, 64, 67, 0.3), 0px 1px 3px 1px rgba(60, 64, 67, 0.15);\n",
              "      fill: #174EA6;\n",
              "    }\n",
              "\n",
              "    [theme=dark] .colab-df-convert {\n",
              "      background-color: #3B4455;\n",
              "      fill: #D2E3FC;\n",
              "    }\n",
              "\n",
              "    [theme=dark] .colab-df-convert:hover {\n",
              "      background-color: #434B5C;\n",
              "      box-shadow: 0px 1px 3px 1px rgba(0, 0, 0, 0.15);\n",
              "      filter: drop-shadow(0px 1px 2px rgba(0, 0, 0, 0.3));\n",
              "      fill: #FFFFFF;\n",
              "    }\n",
              "  </style>\n",
              "\n",
              "      <script>\n",
              "        const buttonEl =\n",
              "          document.querySelector('#df-6f706659-466c-4d91-b7c8-80a266b774ba button.colab-df-convert');\n",
              "        buttonEl.style.display =\n",
              "          google.colab.kernel.accessAllowed ? 'block' : 'none';\n",
              "\n",
              "        async function convertToInteractive(key) {\n",
              "          const element = document.querySelector('#df-6f706659-466c-4d91-b7c8-80a266b774ba');\n",
              "          const dataTable =\n",
              "            await google.colab.kernel.invokeFunction('convertToInteractive',\n",
              "                                                     [key], {});\n",
              "          if (!dataTable) return;\n",
              "\n",
              "          const docLinkHtml = 'Like what you see? Visit the ' +\n",
              "            '<a target=\"_blank\" href=https://colab.research.google.com/notebooks/data_table.ipynb>data table notebook</a>'\n",
              "            + ' to learn more about interactive tables.';\n",
              "          element.innerHTML = '';\n",
              "          dataTable['output_type'] = 'display_data';\n",
              "          await google.colab.output.renderOutput(dataTable, element);\n",
              "          const docLink = document.createElement('div');\n",
              "          docLink.innerHTML = docLinkHtml;\n",
              "          element.appendChild(docLink);\n",
              "        }\n",
              "      </script>\n",
              "    </div>\n",
              "  </div>\n",
              "  "
            ],
            "text/plain": [
              "                                                spoiler  \\\n",
              "0                   how about that morning we go throw?   \n",
              "1                                                  2070   \n",
              "2                              intellectual stimulation   \n",
              "3     Purpose connects us to something bigger and in...   \n",
              "4                                      in a rice cooker   \n",
              "...                                                 ...   \n",
              "2994                                      Matthew Perry   \n",
              "2995                          What am I going to learn?   \n",
              "2996  will perform at MTV's upcoming European Music ...   \n",
              "2997  If there's an emergency, we have to be able to...   \n",
              "2998  men between the ages of 18 and 34 are three-ti...   \n",
              "\n",
              "                                             answer  \n",
              "0     IdeaIt’ll be just like old times this weekend  \n",
              "1                                             2070:  \n",
              "2                          Intellectual Stimulation  \n",
              "3                                    common wisdom.  \n",
              "4                                 the bottom of the  \n",
              "...                                             ...  \n",
              "2994                                  Matthew Perry  \n",
              "2995                                      Ivy Ross,  \n",
              "2996                                      Amsterdam  \n",
              "2997                            landingsEver wonder  \n",
              "2998                                Millennial men,  \n",
              "\n",
              "[2999 rows x 2 columns]"
            ]
          },
          "execution_count": 32,
          "metadata": {},
          "output_type": "execute_result"
        }
      ],
      "source": [
        "results_df[[\"spoiler\", \"answer\"]]"
      ]
    },
    {
      "cell_type": "code",
      "execution_count": null,
      "metadata": {
        "id": "Nc9N0BmNSxQz"
      },
      "outputs": [],
      "source": []
    }
  ],
  "metadata": {
    "colab": {
      "provenance": []
    },
    "kernelspec": {
      "display_name": "Python 3",
      "name": "python3"
    },
    "language_info": {
      "name": "python"
    }
  },
  "nbformat": 4,
  "nbformat_minor": 0
}
